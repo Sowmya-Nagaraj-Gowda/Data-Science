{
 "cells": [
  {
   "cell_type": "markdown",
   "id": "bc47b75f",
   "metadata": {},
   "source": [
    "# Clustering"
   ]
  },
  {
   "cell_type": "markdown",
   "id": "c15cb8ee",
   "metadata": {},
   "source": [
    "### Perform clustering (hierarchical,K means clustering and DBSCAN) for the airlines data to obtain optimum number of clusters. \n",
    "### Draw the inferences from the clusters obtained."
   ]
  },
  {
   "cell_type": "code",
   "execution_count": 1,
   "id": "3d3a1dc1",
   "metadata": {},
   "outputs": [],
   "source": [
    "import pandas as pd\n",
    "import numpy as np\n",
    "import matplotlib.pyplot as plt\n",
    "import seaborn as sns"
   ]
  },
  {
   "cell_type": "code",
   "execution_count": 4,
   "id": "81f142ed",
   "metadata": {},
   "outputs": [],
   "source": [
    "data=pd.read_excel(\"C:\\\\Users\\\\Dell\\\\Downloads\\\\EastWestAirlines.xlsx\")"
   ]
  },
  {
   "cell_type": "code",
   "execution_count": null,
   "id": "0d3b55c6",
   "metadata": {},
   "outputs": [],
   "source": [
    "data"
   ]
  },
  {
   "cell_type": "code",
   "execution_count": null,
   "id": "6ac5fe7f",
   "metadata": {},
   "outputs": [],
   "source": [
    "data.info()"
   ]
  },
  {
   "cell_type": "code",
   "execution_count": null,
   "id": "044c43ae",
   "metadata": {},
   "outputs": [],
   "source": [
    "data2=data.drop(['ID#'],axis=1)\n",
    "data2"
   ]
  },
  {
   "cell_type": "code",
   "execution_count": null,
   "id": "8d885221",
   "metadata": {},
   "outputs": [],
   "source": [
    "#Normalise\n",
    "data2_norm=pd.DataFrame(normalize(data2),columns=data2.columns)\n",
    "data2_norm"
   ]
  },
  {
   "cell_type": "markdown",
   "id": "c02a6b10",
   "metadata": {},
   "source": [
    "# Hierarchial clustering"
   ]
  },
  {
   "cell_type": "code",
   "execution_count": null,
   "id": "df520c1d",
   "metadata": {},
   "outputs": [],
   "source": [
    "import scipy.cluster.hierarchy as sch\n",
    "from sklearn.cluster import AgglomerativeClustering\n",
    "from sklearn.preprocessing import normalize"
   ]
  },
  {
   "cell_type": "code",
   "execution_count": null,
   "id": "a968b523",
   "metadata": {},
   "outputs": [],
   "source": [
    "# create Dendrograms\n",
    "plt.figure(figsize=(10,7))\n",
    "dendograms=sch.dendogram(sch.linkage(data2_norm,'complete'))"
   ]
  },
  {
   "cell_type": "code",
   "execution_count": null,
   "id": "7973ebb8",
   "metadata": {},
   "outputs": [],
   "source": [
    "dendograms=sch.dendogram(sch.linkage(data2_norm,'single'))"
   ]
  },
  {
   "cell_type": "code",
   "execution_count": null,
   "id": "158ce29b",
   "metadata": {},
   "outputs": [],
   "source": [
    "dendrogram=sch.dendrogram(sch.linkage(df_norm,method='average'))"
   ]
  },
  {
   "cell_type": "code",
   "execution_count": null,
   "id": "2bfd506d",
   "metadata": {},
   "outputs": [],
   "source": [
    "#create clusters\n",
    "hc=AgglomerativeClustering(n_clusters=3,affinity='euclidean',linkage='complete')\n",
    "hc"
   ]
  },
  {
   "cell_type": "code",
   "execution_count": null,
   "id": "f08cac8a",
   "metadata": {},
   "outputs": [],
   "source": [
    "y=pd.DataFrame(hc.fit_predict(data2_norm),columns=['clustersid']\n",
    "y['clustersid'].value_counts()"
   ]
  },
  {
   "cell_type": "code",
   "execution_count": null,
   "id": "5a6b0b13",
   "metadata": {},
   "outputs": [],
   "source": [
    "data2['clusterid']=hc.labels_  #adding clusters to dataset\n",
    "data2"
   ]
  },
  {
   "cell_type": "code",
   "execution_count": null,
   "id": "f204a34c",
   "metadata": {},
   "outputs": [],
   "source": [
    "hc=AgglomerativeClustering(n_clusters=3,affinity='euclidean',linkage='average')\n",
    "hc"
   ]
  },
  {
   "cell_type": "code",
   "execution_count": null,
   "id": "1abeaac8",
   "metadata": {},
   "outputs": [],
   "source": [
    "y=pd.DataFrame(hc.fit_predict(data2_norm),columns=['clustersid']\n",
    "y['clustersid'].value_counts()"
   ]
  },
  {
   "cell_type": "code",
   "execution_count": null,
   "id": "849106ef",
   "metadata": {},
   "outputs": [],
   "source": [
    "data2['clusterid']=hc.labels_  #adding clusters to dataset\n",
    "data2"
   ]
  },
  {
   "cell_type": "code",
   "execution_count": null,
   "id": "ed24db03",
   "metadata": {},
   "outputs": [],
   "source": [
    "hc=AgglomerativeClustering(n_clusters=3,affinity='euclidean',linkage='single')\n",
    "hc"
   ]
  },
  {
   "cell_type": "code",
   "execution_count": null,
   "id": "abb962ca",
   "metadata": {},
   "outputs": [],
   "source": [
    "y=pd.DataFrame(hc.fit_predict(data2_norm),columns=['clustersid']\n",
    "y['clustersid'].value_counts()"
   ]
  },
  {
   "cell_type": "code",
   "execution_count": null,
   "id": "ee60f414",
   "metadata": {},
   "outputs": [],
   "source": [
    "data2['clusterid']=hc.labels_  #adding clusters to dataset\n",
    "data2"
   ]
  },
  {
   "cell_type": "code",
   "execution_count": null,
   "id": "9a099f61",
   "metadata": {},
   "outputs": [],
   "source": [
    "data2.groupby('clustersid').agg(['mean']).reset_index()"
   ]
  },
  {
   "cell_type": "code",
   "execution_count": null,
   "id": "86df4a07",
   "metadata": {},
   "outputs": [],
   "source": [
    "#plot clusters\n",
    "plt.figure(figsize=(10,7))\n",
    "plt.scatter(data2['clustersid'],data2['Balance'],c=hc.labels_)"
   ]
  },
  {
   "cell_type": "markdown",
   "id": "6e53c61e",
   "metadata": {},
   "source": [
    "# K-Means"
   ]
  },
  {
   "cell_type": "code",
   "execution_count": null,
   "id": "46e1e7e0",
   "metadata": {},
   "outputs": [],
   "source": [
    "from sklearn.cluster import KMeans\n",
    "from scipy.spatial.distance import cdist"
   ]
  },
  {
   "cell_type": "code",
   "execution_count": null,
   "id": "2942f1b4",
   "metadata": {},
   "outputs": [],
   "source": [
    "df=pd.read_excel(\"C:\\\\Users\\\\Dell\\\\Downloads\\\\EastWestAirlines.xlsx\")\n",
    "df"
   ]
  },
  {
   "cell_type": "code",
   "execution_count": null,
   "id": "3615179d",
   "metadata": {},
   "outputs": [],
   "source": [
    "#Normalise the data function\n",
    "def norm_func(i):\n",
    "    x=(i-i.min())/(i.max()-i.min())\n",
    "    return(x)"
   ]
  },
  {
   "cell_type": "code",
   "execution_count": null,
   "id": "60b32c1c",
   "metadata": {},
   "outputs": [],
   "source": [
    "df_norm=norm_func(df.iloc[:,1:])\n",
    "df_norm"
   ]
  },
  {
   "cell_type": "code",
   "execution_count": null,
   "id": "8f27d6e9",
   "metadata": {},
   "outputs": [],
   "source": [
    "#Elbow curve\n",
    "wcss=[]\n",
    "for i in range(1,11):\n",
    "    kmeans=KMeans(n_clusters=i)\n",
    "    kmeans.fit(df_norm)\n",
    "    wcss.append(kmeans.inertia_)\n",
    "plt.plot(range(1,11),wcss)\n",
    "plt.title('Elbow curve')\n",
    "plt.xlabel('Number of clusters')\n",
    "plt.ylabel('WCSS')\n",
    "plt.show()"
   ]
  },
  {
   "cell_type": "code",
   "execution_count": null,
   "id": "7f50653d",
   "metadata": {},
   "outputs": [],
   "source": [
    "#selecting 4 clusters from above scree plot\n",
    "model=KMeans(n_clusters=4)\n",
    "model.fit(df_norm)\n",
    "model.labels_"
   ]
  },
  {
   "cell_type": "code",
   "execution_count": null,
   "id": "6b6cbf38",
   "metadata": {},
   "outputs": [],
   "source": [
    "x=pd.Series(model.labels_)\n",
    "df['Clust']=x\n",
    "df"
   ]
  },
  {
   "cell_type": "code",
   "execution_count": null,
   "id": "c3582bf4",
   "metadata": {},
   "outputs": [],
   "source": [
    "df.iloc[:,1:5].groupby(df.Clust).mean()"
   ]
  },
  {
   "cell_type": "markdown",
   "id": "70a86cfe",
   "metadata": {},
   "source": [
    "# DBSCAN"
   ]
  },
  {
   "cell_type": "code",
   "execution_count": null,
   "id": "c707f6b5",
   "metadata": {},
   "outputs": [],
   "source": [
    "from sklearn.cluster import DBSCAN\n",
    "from sklearn.preprocessing import StandardScaler"
   ]
  },
  {
   "cell_type": "code",
   "execution_count": null,
   "id": "7eb05ed5",
   "metadata": {},
   "outputs": [],
   "source": [
    "df1=pd.read_excel(\"C:\\\\Users\\\\Dell\\\\Downloads\\\\EastWestAirlines.xlsx\")\n",
    "df1"
   ]
  },
  {
   "cell_type": "code",
   "execution_count": null,
   "id": "035687a2",
   "metadata": {},
   "outputs": [],
   "source": [
    "df1.info()"
   ]
  },
  {
   "cell_type": "code",
   "execution_count": null,
   "id": "71a0fd76",
   "metadata": {},
   "outputs": [],
   "source": [
    "stscaler=StandardScaler().fit(df1.values)\n",
    "x=stscaler.transform(df1.values)\n",
    "x"
   ]
  },
  {
   "cell_type": "code",
   "execution_count": null,
   "id": "fe39c3d8",
   "metadata": {},
   "outputs": [],
   "source": [
    "dbscan=DBSCAN(eps=2,min_samples=5)\n",
    "dbscan.fit(x)"
   ]
  },
  {
   "cell_type": "code",
   "execution_count": null,
   "id": "04142c2b",
   "metadata": {},
   "outputs": [],
   "source": [
    "dbscan.labels_"
   ]
  },
  {
   "cell_type": "code",
   "execution_count": null,
   "id": "a3033150",
   "metadata": {},
   "outputs": [],
   "source": [
    "cl=pd.DataFrame(dbscan.labels_,columns=['cluster'])"
   ]
  },
  {
   "cell_type": "code",
   "execution_count": null,
   "id": "a3b23699",
   "metadata": {},
   "outputs": [],
   "source": [
    "cl"
   ]
  },
  {
   "cell_type": "code",
   "execution_count": null,
   "id": "10a64bfe",
   "metadata": {},
   "outputs": [],
   "source": [
    "pd.concat([df1,cl],axis=1)"
   ]
  },
  {
   "cell_type": "code",
   "execution_count": null,
   "id": "3670c762",
   "metadata": {},
   "outputs": [],
   "source": []
  },
  {
   "cell_type": "code",
   "execution_count": null,
   "id": "20eaac0e",
   "metadata": {},
   "outputs": [],
   "source": []
  },
  {
   "cell_type": "code",
   "execution_count": null,
   "id": "e7c3d051",
   "metadata": {},
   "outputs": [],
   "source": []
  },
  {
   "cell_type": "code",
   "execution_count": null,
   "id": "0008f8e0",
   "metadata": {},
   "outputs": [],
   "source": []
  },
  {
   "cell_type": "code",
   "execution_count": null,
   "id": "c642ebab",
   "metadata": {},
   "outputs": [],
   "source": []
  },
  {
   "cell_type": "code",
   "execution_count": null,
   "id": "ec4544b0",
   "metadata": {},
   "outputs": [],
   "source": []
  },
  {
   "cell_type": "code",
   "execution_count": null,
   "id": "9dc7de5e",
   "metadata": {},
   "outputs": [],
   "source": []
  },
  {
   "cell_type": "code",
   "execution_count": null,
   "id": "efe46a82",
   "metadata": {},
   "outputs": [],
   "source": []
  },
  {
   "cell_type": "code",
   "execution_count": null,
   "id": "6774b736",
   "metadata": {},
   "outputs": [],
   "source": []
  },
  {
   "cell_type": "code",
   "execution_count": null,
   "id": "cc9c3516",
   "metadata": {},
   "outputs": [],
   "source": []
  },
  {
   "cell_type": "code",
   "execution_count": null,
   "id": "c4239442",
   "metadata": {},
   "outputs": [],
   "source": []
  },
  {
   "cell_type": "code",
   "execution_count": null,
   "id": "eea6d602",
   "metadata": {},
   "outputs": [],
   "source": []
  },
  {
   "cell_type": "code",
   "execution_count": null,
   "id": "b67bb834",
   "metadata": {},
   "outputs": [],
   "source": []
  },
  {
   "cell_type": "code",
   "execution_count": null,
   "id": "fcf36087",
   "metadata": {},
   "outputs": [],
   "source": []
  }
 ],
 "metadata": {
  "kernelspec": {
   "display_name": "Python 3 (ipykernel)",
   "language": "python",
   "name": "python3"
  },
  "language_info": {
   "codemirror_mode": {
    "name": "ipython",
    "version": 3
   },
   "file_extension": ".py",
   "mimetype": "text/x-python",
   "name": "python",
   "nbconvert_exporter": "python",
   "pygments_lexer": "ipython3",
   "version": "3.9.12"
  }
 },
 "nbformat": 4,
 "nbformat_minor": 5
}
